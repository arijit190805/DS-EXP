{
  "nbformat": 4,
  "nbformat_minor": 0,
  "metadata": {
    "colab": {
      "provenance": [],
      "authorship_tag": "ABX9TyM5ND5s0T7AdnqYiTFwSkud",
      "include_colab_link": true
    },
    "kernelspec": {
      "name": "python3",
      "display_name": "Python 3"
    },
    "language_info": {
      "name": "python"
    }
  },
  "cells": [
    {
      "cell_type": "markdown",
      "metadata": {
        "id": "view-in-github",
        "colab_type": "text"
      },
      "source": [
        "<a href=\"https://colab.research.google.com/github/arijit190805/DS-EXP/blob/main/DS_EXP_8_(US).ipynb\" target=\"_parent\"><img src=\"https://colab.research.google.com/assets/colab-badge.svg\" alt=\"Open In Colab\"/></a>"
      ]
    },
    {
      "cell_type": "markdown",
      "source": [
        ". Sample Data\n"
      ],
      "metadata": {
        "id": "9pA40hEZ0VXn"
      }
    },
    {
      "cell_type": "code",
      "execution_count": null,
      "metadata": {
        "id": "fnk_L7j-qh6C"
      },
      "outputs": [],
      "source": [
        "import pandas as pd\n",
        "from sklearn.datasets import make_classification\n",
        "\n",
        "# Create a sample dataset\n",
        "X, y = make_classification(n_samples=100, n_features=20, n_informative=10, n_redundant=5, random_state=42)\n",
        "df = pd.DataFrame(X, columns=[f'feature_{i}' for i in range(20)])\n",
        "df['target'] = y\n"
      ]
    },
    {
      "cell_type": "markdown",
      "source": [
        "Wrapper Methods (Backward Elimination)"
      ],
      "metadata": {
        "id": "PDQkBxex0ecr"
      }
    },
    {
      "cell_type": "code",
      "source": [
        "import statsmodels.api as sm\n",
        "\n",
        "# Function for backward elimination\n",
        "def backward_elimination(X, y, significance_level=0.05):\n",
        "    X = sm.add_constant(X)  # Add intercept\n",
        "    model = sm.OLS(y, X).fit()\n",
        "\n",
        "    while True:\n",
        "        max_p_value = model.pvalues.max()\n",
        "        if max_p_value >= significance_level:\n",
        "            # Drop feature with the highest p-value\n",
        "            feature_to_drop = model.pvalues.idxmax()\n",
        "            X = X.drop(columns=feature_to_drop)\n",
        "            model = sm.OLS(y, X).fit()\n",
        "        else:\n",
        "            break\n",
        "\n",
        "    return X\n",
        "\n",
        "# Perform backward elimination\n",
        "X_selected = backward_elimination(df.drop(columns='target'), df['target'])\n",
        "print(X_selected.columns)\n"
      ],
      "metadata": {
        "colab": {
          "base_uri": "https://localhost:8080/"
        },
        "id": "emR8CSC6zyUB",
        "outputId": "d09704b4-45d8-4596-d550-6f913cf1fd8e"
      },
      "execution_count": null,
      "outputs": [
        {
          "output_type": "stream",
          "name": "stdout",
          "text": [
            "Index(['const', 'feature_0', 'feature_2', 'feature_5', 'feature_6',\n",
            "       'feature_10', 'feature_11', 'feature_12', 'feature_13', 'feature_15'],\n",
            "      dtype='object')\n"
          ]
        }
      ]
    },
    {
      "cell_type": "markdown",
      "source": [
        "Embedded Methods (Using Decision Trees)"
      ],
      "metadata": {
        "id": "JHTUdo7T0rRJ"
      }
    },
    {
      "cell_type": "code",
      "source": [
        "from sklearn.tree import DecisionTreeClassifier\n",
        "\n",
        "# Fit a Decision Tree model\n",
        "tree_model = DecisionTreeClassifier(random_state=42)\n",
        "tree_model.fit(X, y)\n",
        "\n",
        "# Get feature importances\n",
        "importances = tree_model.feature_importances_\n",
        "\n",
        "# Create a DataFrame to display feature importances\n",
        "feature_importance_df = pd.DataFrame({'Feature': df.columns[:-1], 'Importance': importances})\n",
        "print(feature_importance_df.sort_values(by='Importance', ascending=False))\n"
      ],
      "metadata": {
        "colab": {
          "base_uri": "https://localhost:8080/"
        },
        "id": "vA6HavmHz5IV",
        "outputId": "4e329684-b7c4-4e02-974b-10f61324e6de"
      },
      "execution_count": null,
      "outputs": [
        {
          "output_type": "stream",
          "name": "stdout",
          "text": [
            "       Feature  Importance\n",
            "4    feature_4    0.385789\n",
            "2    feature_2    0.136133\n",
            "0    feature_0    0.110008\n",
            "19  feature_19    0.066443\n",
            "13  feature_13    0.060000\n",
            "6    feature_6    0.059524\n",
            "12  feature_12    0.057143\n",
            "7    feature_7    0.051818\n",
            "10  feature_10    0.038857\n",
            "8    feature_8    0.034286\n",
            "3    feature_3    0.000000\n",
            "5    feature_5    0.000000\n",
            "9    feature_9    0.000000\n",
            "1    feature_1    0.000000\n",
            "11  feature_11    0.000000\n",
            "14  feature_14    0.000000\n",
            "15  feature_15    0.000000\n",
            "16  feature_16    0.000000\n",
            "17  feature_17    0.000000\n",
            "18  feature_18    0.000000\n"
          ]
        }
      ]
    },
    {
      "cell_type": "markdown",
      "source": [
        "Lasso Regularization"
      ],
      "metadata": {
        "id": "1Uw1txcB01sv"
      }
    },
    {
      "cell_type": "code",
      "source": [
        "from sklearn.linear_model import Lasso\n",
        "from sklearn.preprocessing import StandardScaler\n",
        "from sklearn.model_selection import train_test_split\n",
        "\n",
        "# Split the data\n",
        "X_train, X_test, y_train, y_test = train_test_split(X, y, test_size=0.2, random_state=42)\n",
        "\n",
        "# Standardize the data\n",
        "scaler = StandardScaler()\n",
        "X_train_scaled = scaler.fit_transform(X_train)\n",
        "X_test_scaled = scaler.transform(X_test)\n",
        "\n",
        "# Fit Lasso model\n",
        "lasso = Lasso(alpha=0.1)\n",
        "lasso.fit(X_train_scaled, y_train)\n",
        "\n",
        "# Get selected features\n",
        "selected_features = pd.Series(lasso.coef_, index=df.columns[:-1])\n",
        "print(selected_features[selected_features != 0])\n"
      ],
      "metadata": {
        "colab": {
          "base_uri": "https://localhost:8080/"
        },
        "id": "-PAVUHbr0BWx",
        "outputId": "941b881a-1f4b-4098-d06a-d2dc85c32225"
      },
      "execution_count": null,
      "outputs": [
        {
          "output_type": "stream",
          "name": "stdout",
          "text": [
            "feature_0    -0.114809\n",
            "feature_1    -0.010935\n",
            "feature_2     0.004274\n",
            "feature_4    -0.070635\n",
            "feature_7     0.003396\n",
            "feature_10    0.037549\n",
            "dtype: float64\n"
          ]
        }
      ]
    },
    {
      "cell_type": "code",
      "source": [],
      "metadata": {
        "id": "I_CPSL5n0Sq2"
      },
      "execution_count": null,
      "outputs": []
    }
  ]
}